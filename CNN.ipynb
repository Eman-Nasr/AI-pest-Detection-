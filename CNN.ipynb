{
  "nbformat": 4,
  "nbformat_minor": 0,
  "metadata": {
    "colab": {
      "provenance": [],
      "authorship_tag": "ABX9TyNTw9hwVXmaGVvQWdtY7YyW",
      "include_colab_link": true
    },
    "kernelspec": {
      "name": "python3",
      "display_name": "Python 3"
    },
    "language_info": {
      "name": "python"
    }
  },
  "cells": [
    {
      "cell_type": "markdown",
      "metadata": {
        "id": "view-in-github",
        "colab_type": "text"
      },
      "source": [
        "<a href=\"https://colab.research.google.com/github/Eman-Nasr/AI-pest-Detection-/blob/main/CNN.ipynb\" target=\"_parent\"><img src=\"https://colab.research.google.com/assets/colab-badge.svg\" alt=\"Open In Colab\"/></a>"
      ]
    },
    {
      "cell_type": "code",
      "execution_count": null,
      "metadata": {
        "colab": {
          "base_uri": "https://localhost:8080/"
        },
        "id": "0lPGqz89YKLY",
        "outputId": "bfbda2ac-34d1-47a2-b3f6-b1206b2a69fc"
      },
      "outputs": [
        {
          "output_type": "stream",
          "name": "stdout",
          "text": [
            "Mounted at /content/drive\n"
          ]
        }
      ],
      "source": [
        "# Mount Google Drive\n",
        "from google.colab import drive\n",
        "drive.mount('/content/drive')\n"
      ]
    },
    {
      "cell_type": "code",
      "source": [
        "from tensorflow import keras\n",
        "import os\n",
        "\n",
        "model_path = \"/content/drive/My Drive/insect_classifier.keras\"\n",
        "\n",
        "if os.path.exists(model_path):\n",
        "    model = keras.models.load_model(model_path)\n",
        "    print(\"Model loaded successfully!\")\n",
        "else:\n",
        "    print(\"Model not found. Train it first.\")\n"
      ],
      "metadata": {
        "colab": {
          "base_uri": "https://localhost:8080/"
        },
        "id": "0nS_zgkMdvVd",
        "outputId": "d3a9be2a-6758-4ab8-e36c-a26b36fa5509"
      },
      "execution_count": null,
      "outputs": [
        {
          "output_type": "stream",
          "name": "stdout",
          "text": [
            "Model loaded successfully!\n"
          ]
        }
      ]
    },
    {
      "cell_type": "code",
      "source": [
        "model.save(\"/content/drive/My Drive/insect_classifier.keras\")\n"
      ],
      "metadata": {
        "id": "8aa6sRopdiTb"
      },
      "execution_count": null,
      "outputs": []
    },
    {
      "cell_type": "code",
      "source": [
        "# Mount Google Drive\n",
        "from google.colab import drive\n",
        "drive.mount('/content/drive')\n",
        "\n",
        "# Import necessary libraries\n",
        "import tensorflow as tf\n",
        "from tensorflow import keras\n",
        "from tensorflow.keras import layers\n",
        "import os\n",
        "import json  # For saving training history\n",
        "\n",
        "# Define dataset path\n",
        "dataset_path = \"/content/drive/My Drive/insect\"\n",
        "\n",
        "# Define image parameters\n",
        "img_height, img_width = 150, 150\n",
        "batch_size = 32\n",
        "\n",
        "# Load dataset (BEFORE augmentation)\n",
        "raw_train_ds = keras.preprocessing.image_dataset_from_directory(\n",
        "    dataset_path,\n",
        "    validation_split=0.2,\n",
        "    subset=\"training\",\n",
        "    seed=123,\n",
        "    image_size=(img_height, img_width),\n",
        "    batch_size=batch_size\n",
        ")\n",
        "\n",
        "raw_val_ds = keras.preprocessing.image_dataset_from_directory(\n",
        "    dataset_path,\n",
        "    validation_split=0.2,\n",
        "    subset=\"validation\",\n",
        "    seed=123,\n",
        "    image_size=(img_height, img_width),\n",
        "    batch_size=batch_size\n",
        ")\n",
        "\n",
        "# Get class names BEFORE applying augmentation\n",
        "class_names = raw_train_ds.class_names\n",
        "num_classes = len(class_names)\n",
        "print(\"Classes:\", class_names)\n",
        "\n",
        "# Apply Data Augmentation\n",
        "data_augmentation = keras.Sequential([\n",
        "    layers.RandomFlip(\"horizontal\"),\n",
        "    layers.RandomRotation(0.2),\n",
        "    layers.RandomZoom(0.2),\n",
        "])\n",
        "\n",
        "# Map augmentation onto dataset\n",
        "train_ds = raw_train_ds.map(lambda x, y: (data_augmentation(x, training=True), y))\n",
        "val_ds = raw_val_ds\n",
        "\n",
        "# Define Improved CNN Model\n",
        "model = keras.Sequential([\n",
        "    layers.Rescaling(1./255, input_shape=(img_height, img_width, 3)),\n",
        "\n",
        "    layers.Conv2D(32, (3, 3), activation='relu'),\n",
        "    layers.BatchNormalization(),\n",
        "    layers.MaxPooling2D(2, 2),\n",
        "\n",
        "    layers.Conv2D(64, (3, 3), activation='relu'),\n",
        "    layers.BatchNormalization(),\n",
        "    layers.MaxPooling2D(2, 2),\n",
        "\n",
        "    layers.Conv2D(128, (3, 3), activation='relu'),\n",
        "    layers.BatchNormalization(),\n",
        "    layers.MaxPooling2D(2, 2),\n",
        "\n",
        "    layers.Conv2D(256, (3, 3), activation='relu'),\n",
        "    layers.BatchNormalization(),\n",
        "    layers.MaxPooling2D(2, 2),\n",
        "\n",
        "    layers.Flatten(),\n",
        "    layers.Dense(256, activation='relu'),\n",
        "    layers.Dropout(0.5),\n",
        "    layers.Dense(num_classes, activation='softmax')  # Output layer\n",
        "])\n",
        "\n",
        "# Compile Model\n",
        "model.compile(optimizer='adam',\n",
        "              loss='sparse_categorical_crossentropy',\n",
        "              metrics=['accuracy'])\n",
        "\n",
        "# Train model with Learning Rate Scheduler\n",
        "epochs = 20\n",
        "lr_scheduler = keras.callbacks.ReduceLROnPlateau(monitor='val_loss', factor=0.2, patience=3, min_lr=0.00001)\n",
        "\n",
        "# Train the model\n",
        "history = model.fit(train_ds, validation_data=val_ds, epochs=epochs, callbacks=[lr_scheduler])\n",
        "\n",
        "# Save Model\n",
        "model_path = \"/content/drive/My Drive/insect_classifier.keras\"\n",
        "model.save(model_path)\n",
        "print(\"Model saved at\", model_path)\n",
        "\n",
        "# Save Training History\n",
        "history_file = \"/content/drive/My Drive/insect_training_history.json\"\n",
        "\n",
        "with open(history_file, \"w\") as f:\n",
        "    json.dump(history.history, f)\n",
        "\n",
        "print(\"Training history saved at\", history_file)\n"
      ],
      "metadata": {
        "colab": {
          "base_uri": "https://localhost:8080/"
        },
        "id": "wf2p-3NxiJr2",
        "outputId": "8401131e-a305-4526-fda6-cd18016d013f"
      },
      "execution_count": null,
      "outputs": [
        {
          "output_type": "stream",
          "name": "stdout",
          "text": [
            "Drive already mounted at /content/drive; to attempt to forcibly remount, call drive.mount(\"/content/drive\", force_remount=True).\n",
            "Found 6772 files belonging to 2 classes.\n",
            "Using 5418 files for training.\n",
            "Found 6772 files belonging to 2 classes.\n",
            "Using 1354 files for validation.\n",
            "Classes: ['harmful', 'not_harm']\n"
          ]
        },
        {
          "output_type": "stream",
          "name": "stderr",
          "text": [
            "/usr/local/lib/python3.11/dist-packages/keras/src/layers/preprocessing/tf_data_layer.py:19: UserWarning: Do not pass an `input_shape`/`input_dim` argument to a layer. When using Sequential models, prefer using an `Input(shape)` object as the first layer in the model instead.\n",
            "  super().__init__(**kwargs)\n"
          ]
        },
        {
          "output_type": "stream",
          "name": "stdout",
          "text": [
            "Epoch 1/20\n",
            "\u001b[1m170/170\u001b[0m \u001b[32m━━━━━━━━━━━━━━━━━━━━\u001b[0m\u001b[37m\u001b[0m \u001b[1m671s\u001b[0m 4s/step - accuracy: 0.7078 - loss: 2.2315 - val_accuracy: 0.7821 - val_loss: 0.6438 - learning_rate: 0.0010\n",
            "Epoch 2/20\n",
            "\u001b[1m170/170\u001b[0m \u001b[32m━━━━━━━━━━━━━━━━━━━━\u001b[0m\u001b[37m\u001b[0m \u001b[1m608s\u001b[0m 3s/step - accuracy: 0.7752 - loss: 0.5086 - val_accuracy: 0.3442 - val_loss: 5.7304 - learning_rate: 0.0010\n",
            "Epoch 3/20\n",
            "\u001b[1m170/170\u001b[0m \u001b[32m━━━━━━━━━━━━━━━━━━━━\u001b[0m\u001b[37m\u001b[0m \u001b[1m616s\u001b[0m 3s/step - accuracy: 0.7909 - loss: 0.4860 - val_accuracy: 0.7312 - val_loss: 0.5528 - learning_rate: 0.0010\n",
            "Epoch 4/20\n",
            "\u001b[1m170/170\u001b[0m \u001b[32m━━━━━━━━━━━━━━━━━━━━\u001b[0m\u001b[37m\u001b[0m \u001b[1m571s\u001b[0m 3s/step - accuracy: 0.7757 - loss: 0.4859 - val_accuracy: 0.3442 - val_loss: 1.4752 - learning_rate: 0.0010\n",
            "Epoch 5/20\n",
            "\u001b[1m170/170\u001b[0m \u001b[32m━━━━━━━━━━━━━━━━━━━━\u001b[0m\u001b[37m\u001b[0m \u001b[1m623s\u001b[0m 3s/step - accuracy: 0.7986 - loss: 0.4525 - val_accuracy: 0.8353 - val_loss: 0.4177 - learning_rate: 0.0010\n",
            "Epoch 6/20\n",
            "\u001b[1m170/170\u001b[0m \u001b[32m━━━━━━━━━━━━━━━━━━━━\u001b[0m\u001b[37m\u001b[0m \u001b[1m571s\u001b[0m 3s/step - accuracy: 0.8210 - loss: 0.4062 - val_accuracy: 0.8575 - val_loss: 0.3408 - learning_rate: 0.0010\n",
            "Epoch 7/20\n",
            "\u001b[1m170/170\u001b[0m \u001b[32m━━━━━━━━━━━━━━━━━━━━\u001b[0m\u001b[37m\u001b[0m \u001b[1m629s\u001b[0m 3s/step - accuracy: 0.8145 - loss: 0.4343 - val_accuracy: 0.7777 - val_loss: 0.5006 - learning_rate: 0.0010\n",
            "Epoch 8/20\n",
            "\u001b[1m170/170\u001b[0m \u001b[32m━━━━━━━━━━━━━━━━━━━━\u001b[0m\u001b[37m\u001b[0m \u001b[1m620s\u001b[0m 3s/step - accuracy: 0.8272 - loss: 0.3812 - val_accuracy: 0.6942 - val_loss: 0.6514 - learning_rate: 0.0010\n",
            "Epoch 9/20\n",
            "\u001b[1m170/170\u001b[0m \u001b[32m━━━━━━━━━━━━━━━━━━━━\u001b[0m\u001b[37m\u001b[0m \u001b[1m633s\u001b[0m 3s/step - accuracy: 0.8224 - loss: 0.3865 - val_accuracy: 0.8353 - val_loss: 0.3945 - learning_rate: 0.0010\n",
            "Epoch 10/20\n",
            "\u001b[1m170/170\u001b[0m \u001b[32m━━━━━━━━━━━━━━━━━━━━\u001b[0m\u001b[37m\u001b[0m \u001b[1m572s\u001b[0m 3s/step - accuracy: 0.8412 - loss: 0.3563 - val_accuracy: 0.3892 - val_loss: 1.9308 - learning_rate: 2.0000e-04\n",
            "Epoch 11/20\n",
            "\u001b[1m170/170\u001b[0m \u001b[32m━━━━━━━━━━━━━━━━━━━━\u001b[0m\u001b[37m\u001b[0m \u001b[1m621s\u001b[0m 3s/step - accuracy: 0.8538 - loss: 0.3390 - val_accuracy: 0.3058 - val_loss: 3.4186 - learning_rate: 2.0000e-04\n",
            "Epoch 12/20\n",
            "\u001b[1m170/170\u001b[0m \u001b[32m━━━━━━━━━━━━━━━━━━━━\u001b[0m\u001b[37m\u001b[0m \u001b[1m574s\u001b[0m 3s/step - accuracy: 0.8699 - loss: 0.3182 - val_accuracy: 0.3597 - val_loss: 2.6193 - learning_rate: 2.0000e-04\n",
            "Epoch 13/20\n",
            "\u001b[1m170/170\u001b[0m \u001b[32m━━━━━━━━━━━━━━━━━━━━\u001b[0m\u001b[37m\u001b[0m \u001b[1m577s\u001b[0m 3s/step - accuracy: 0.8743 - loss: 0.3038 - val_accuracy: 0.4409 - val_loss: 1.9615 - learning_rate: 4.0000e-05\n",
            "Epoch 14/20\n",
            "\u001b[1m170/170\u001b[0m \u001b[32m━━━━━━━━━━━━━━━━━━━━\u001b[0m\u001b[37m\u001b[0m \u001b[1m616s\u001b[0m 3s/step - accuracy: 0.8678 - loss: 0.3112 - val_accuracy: 0.3641 - val_loss: 2.9365 - learning_rate: 4.0000e-05\n",
            "Epoch 15/20\n",
            "\u001b[1m170/170\u001b[0m \u001b[32m━━━━━━━━━━━━━━━━━━━━\u001b[0m\u001b[37m\u001b[0m \u001b[1m623s\u001b[0m 3s/step - accuracy: 0.8772 - loss: 0.2864 - val_accuracy: 0.4387 - val_loss: 1.9657 - learning_rate: 4.0000e-05\n",
            "Epoch 16/20\n",
            "\u001b[1m170/170\u001b[0m \u001b[32m━━━━━━━━━━━━━━━━━━━━\u001b[0m\u001b[37m\u001b[0m \u001b[1m569s\u001b[0m 3s/step - accuracy: 0.8669 - loss: 0.2982 - val_accuracy: 0.4136 - val_loss: 2.1432 - learning_rate: 1.0000e-05\n",
            "Epoch 17/20\n",
            "\u001b[1m170/170\u001b[0m \u001b[32m━━━━━━━━━━━━━━━━━━━━\u001b[0m\u001b[37m\u001b[0m \u001b[1m622s\u001b[0m 3s/step - accuracy: 0.8735 - loss: 0.3010 - val_accuracy: 0.3929 - val_loss: 2.4107 - learning_rate: 1.0000e-05\n",
            "Epoch 18/20\n",
            "\u001b[1m170/170\u001b[0m \u001b[32m━━━━━━━━━━━━━━━━━━━━\u001b[0m\u001b[37m\u001b[0m \u001b[1m615s\u001b[0m 3s/step - accuracy: 0.8838 - loss: 0.2796 - val_accuracy: 0.3966 - val_loss: 2.4055 - learning_rate: 1.0000e-05\n",
            "Epoch 19/20\n",
            "\u001b[1m170/170\u001b[0m \u001b[32m━━━━━━━━━━━━━━━━━━━━\u001b[0m\u001b[37m\u001b[0m \u001b[1m577s\u001b[0m 3s/step - accuracy: 0.8752 - loss: 0.2936 - val_accuracy: 0.4032 - val_loss: 2.3082 - learning_rate: 1.0000e-05\n",
            "Epoch 20/20\n",
            "\u001b[1m170/170\u001b[0m \u001b[32m━━━━━━━━━━━━━━━━━━━━\u001b[0m\u001b[37m\u001b[0m \u001b[1m622s\u001b[0m 3s/step - accuracy: 0.8840 - loss: 0.2773 - val_accuracy: 0.4010 - val_loss: 2.3591 - learning_rate: 1.0000e-05\n",
            "Model saved at /content/drive/My Drive/insect_classifier.keras\n",
            "Training history saved at /content/drive/My Drive/insect_training_history.json\n"
          ]
        }
      ]
    },
    {
      "cell_type": "code",
      "source": [
        "import json\n",
        "import matplotlib.pyplot as plt\n",
        "import numpy as np\n",
        "import seaborn as sns\n",
        "from sklearn.metrics import confusion_matrix, classification_report\n",
        "import tensorflow as tf\n",
        "from tensorflow import keras\n",
        "\n",
        "# Load training history from JSON file\n",
        "history_path = \"/content/drive/My Drive/insect_training_history.json\"  # Update path if needed\n",
        "\n",
        "with open(history_path, \"r\") as f:\n",
        "    history = json.load(f)\n",
        "\n",
        "# Plot Accuracy and Loss\n",
        "plt.figure(figsize=(10, 4))\n",
        "\n",
        "# Accuracy plot\n",
        "plt.subplot(1, 2, 1)\n",
        "plt.plot(history[\"accuracy\"], label=\"Training Accuracy\", color=\"blue\")\n",
        "plt.plot(history[\"val_accuracy\"], label=\"Validation Accuracy\", color=\"orange\")\n",
        "plt.xlabel(\"Epochs\")\n",
        "plt.ylabel(\"Accuracy\")\n",
        "plt.title(\"Accuracy\")\n",
        "plt.legend()\n",
        "\n",
        "# Loss plot\n",
        "plt.subplot(1, 2, 2)\n",
        "plt.plot(history[\"loss\"], label=\"Training Loss\", color=\"blue\")\n",
        "plt.plot(history[\"val_loss\"], label=\"Validation Loss\", color=\"orange\")\n",
        "plt.xlabel(\"Epochs\")\n",
        "plt.ylabel(\"Loss\")\n",
        "plt.title(\"Loss\")\n",
        "plt.legend()\n",
        "\n",
        "plt.tight_layout()\n",
        "plt.show()\n",
        "\n",
        "# Load trained model\n",
        "model_path = \"/content/drive/My Drive/insect_classifier.keras\"  # Update path if needed\n",
        "model = keras.models.load_model(model_path)\n",
        "\n",
        "# Load validation dataset (without augmentation)\n",
        "dataset_path = \"/content/drive/My Drive/insect\"  # Update path\n",
        "img_height, img_width = 150, 150\n",
        "batch_size = 32\n",
        "\n",
        "val_ds = keras.preprocessing.image_dataset_from_directory(\n",
        "    dataset_path,\n",
        "    validation_split=0.2,\n",
        "    subset=\"validation\",\n",
        "    seed=123,\n",
        "    image_size=(img_height, img_width),\n",
        "    batch_size=batch_size\n",
        ")\n",
        "\n",
        "# Extract true labels and class names\n",
        "y_true = np.concatenate([y.numpy() for _, y in val_ds])\n",
        "class_names = val_ds.class_names\n",
        "\n",
        "# Make predictions\n",
        "y_pred_prob = model.predict(val_ds)\n",
        "y_pred = np.argmax(y_pred_prob, axis=1)\n",
        "\n",
        "# Compute Confusion Matrix\n",
        "conf_matrix = confusion_matrix(y_true, y_pred)\n",
        "\n",
        "# Plot Confusion Matrix\n",
        "plt.figure(figsize=(8, 6))\n",
        "sns.heatmap(conf_matrix, annot=True, fmt=\"d\", cmap=\"Blues\", xticklabels=class_names, yticklabels=class_names)\n",
        "plt.xlabel(\"Predicted Label\")\n",
        "plt.ylabel(\"True Label\")\n",
        "plt.title(\"Confusion Matrix\")\n",
        "plt.show()\n",
        "\n",
        "# Print classification report\n",
        "print(\"Classification Report:\")\n",
        "print(classification_report(y_true, y_pred, target_names=class_names))\n"
      ],
      "metadata": {
        "colab": {
          "base_uri": "https://localhost:8080/",
          "height": 1000
        },
        "id": "prj9VXxPEdm4",
        "outputId": "fb14c734-80ef-4e6e-a745-329d28cec51f"
      },
      "execution_count": null,
      "outputs": [
        {
          "output_type": "display_data",
          "data": {
            "text/plain": [
              "<Figure size 1000x400 with 2 Axes>"
            ],
            "image/png": "[encoded data removed]"
          },
          "metadata": {}
        },
        {
          "output_type": "stream",
          "name": "stdout",
          "text": [
            "Found 6772 files belonging to 2 classes.\n",
            "Using 1354 files for validation.\n",
            "\u001b[1m43/43\u001b[0m \u001b[32m━━━━━━━━━━━━━━━━━━━━\u001b[0m\u001b[37m\u001b[0m \u001b[1m34s\u001b[0m 749ms/step\n"
          ]
        },
        {
          "output_type": "display_data",
          "data": {
            "text/plain": [
              "<Figure size 800x600 with 2 Axes>"
            ],
            "image/png": "[encoded data removed]"
          },
          "metadata": {}
        },
        {
          "output_type": "stream",
          "name": "stdout",
          "text": [
            "Classification Report:\n",
            "              precision    recall  f1-score   support\n",
            "\n",
            "     harmful       0.22      0.80      0.34       297\n",
            "    not_harm       0.77      0.18      0.29      1057\n",
            "\n",
            "    accuracy                           0.32      1354\n",
            "   macro avg       0.49      0.49      0.32      1354\n",
            "weighted avg       0.65      0.32      0.30      1354\n",
            "\n"
          ]
        }
      ]
    },
    {
      "cell_type": "code",
      "source": [
        "import os\n",
        "import tensorflow as tf\n",
        "import shutil\n",
        "\n",
        "#  Define original dataset path\n",
        "dataset_path = \"/content/drive/My Drive/insect\"\n",
        "\n",
        "#  Create a TEMPORARY FLAT DIRECTORY for all insect types\n",
        "temp_dataset_path = \"/content/insect_dataset\"\n",
        "\n",
        "# Remove existing folder to avoid conflicts\n",
        "if os.path.exists(temp_dataset_path):\n",
        "    shutil.rmtree(temp_dataset_path)\n",
        "\n",
        "# Recreate the folder\n",
        "os.makedirs(temp_dataset_path, exist_ok=True)\n",
        "\n",
        "#  Collect all species from harmful & not_harm categories\n",
        "for category in [\"harmful\", \"not_harm\"]:\n",
        "    category_path = os.path.join(dataset_path, category)\n",
        "\n",
        "    if os.path.exists(category_path):\n",
        "        for insect_species in os.listdir(category_path):\n",
        "            species_path = os.path.join(category_path, insect_species)\n",
        "\n",
        "            if os.path.isdir(species_path):  # Ensure it's a directory\n",
        "                # Create symlink for each species in temp dataset\n",
        "                os.symlink(species_path, os.path.join(temp_dataset_path, insect_species))\n",
        "\n",
        "print(\"All insect species linked successfully!\")\n",
        "\n",
        "# Load dataset correctly\n",
        "train_ds = tf.keras.preprocessing.image_dataset_from_directory(\n",
        "    temp_dataset_path,  # Now loads all species correctly\n",
        "    validation_split=0.2,\n",
        "    subset=\"training\",\n",
        "    seed=123,\n",
        "    image_size=(150, 150),\n",
        "    batch_size=32,\n",
        "    label_mode=\"categorical\"  # Multi-class classification\n",
        ")\n",
        "\n",
        "val_ds = tf.keras.preprocessing.image_dataset_from_directory(\n",
        "    temp_dataset_path,\n",
        "    validation_split=0.2,\n",
        "    subset=\"validation\",\n",
        "    seed=123,\n",
        "    image_size=(150, 150),\n",
        "    batch_size=32,\n",
        "    label_mode=\"int\"\n",
        ")\n",
        "\n",
        "#  Extract final detected classes\n",
        "class_names = train_ds.class_names\n",
        "print(f\"Final Detected Classes: {class_names}\")\n",
        "\n",
        "# ✅ Verify detection\n",
        "if len(class_names) > 2:  # More than just \"harmful\" and \"not_harm\"\n",
        "    print(f\" Model is correctly detecting {len(class_names)} insect species!\")\n",
        "else:\n",
        "    print(\"ERROR: Model is still detecting only 'harmful' and 'not_harm'!\")\n",
        "    print(\"Ensure dataset subfolders contain images and are readable.\")\n"
      ],
      "metadata": {
        "colab": {
          "base_uri": "https://localhost:8080/"
        },
        "id": "9_HHp-xkcJVd",
        "outputId": "6b36b673-d1bc-4596-d4e1-bac29c5ad904"
      },
      "execution_count": null,
      "outputs": [
        {
          "output_type": "stream",
          "name": "stdout",
          "text": [
            "All insect species linked successfully!\n",
            "Found 6772 files belonging to 26 classes.\n",
            "Using 5418 files for training.\n",
            "Found 6772 files belonging to 26 classes.\n",
            "Using 1354 files for validation.\n",
            "Final Detected Classes: ['Africanized Honey Bees (Killer Bees)', 'Aphids', 'Armyworms', 'Brown Marmorated Stink Bugs', 'Cabbage Loopers', 'Citrus Canker', 'Colorado Potato Beetles', 'Corn Borers', 'Corn Earworms', 'Fall Armyworms', 'Fruit Flies', 'Spider Mites', 'Thrips', 'Tomato Hornworms', 'Western Corn Rootworms', 'ants', 'bees', 'beetle', 'catterpillar', 'earwig', 'grasshopper', 'moth', 'slug', 'snail', 'wasp', 'weevil']\n",
            " Model is correctly detecting 26 insect species!\n"
          ]
        }
      ]
    },
    {
      "cell_type": "code",
      "source": [
        "from tensorflow import keras\n",
        "\n",
        "# Load the trained model\n",
        "model = keras.models.load_model(\"/content/drive/My Drive/insect_classifier.keras\")\n",
        "\n",
        "# Evaluate on validation set\n",
        "loss, accuracy = model.evaluate(val_ds)\n",
        "print(f\"Validation Accuracy: {accuracy:.4f}\")\n",
        "print(f\"Validation Loss: {loss:.4f}\")\n"
      ],
      "metadata": {
        "colab": {
          "base_uri": "https://localhost:8080/"
        },
        "id": "K4hze21tQz2S",
        "outputId": "53e0e965-37b1-4643-a0d0-19b455511683"
      },
      "execution_count": null,
      "outputs": [
        {
          "output_type": "stream",
          "name": "stdout",
          "text": [
            "\u001b[1m43/43\u001b[0m \u001b[32m━━━━━━━━━━━━━━━━━━━━\u001b[0m\u001b[37m\u001b[0m \u001b[1m33s\u001b[0m 738ms/step - accuracy: 0.3442 - loss: 2.9603\n",
            "Validation Accuracy: 0.3626\n",
            "Validation Loss: 2.9046\n"
          ]
        }
      ]
    },
    {
      "cell_type": "code",
      "source": [
        "# Import necessary libraries\n",
        "import tensorflow as tf\n",
        "from tensorflow import keras\n",
        "from tensorflow.keras import layers\n",
        "\n",
        "# Define image parameters\n",
        "img_height, img_width = 150, 150\n",
        "batch_size = 32\n",
        "\n",
        "# Reload the dataset (same as before)\n",
        "new_train_ds_raw = keras.preprocessing.image_dataset_from_directory(\n",
        "    \"/content/drive/My Drive/insect\",\n",
        "    validation_split=0.2,\n",
        "    subset=\"training\",\n",
        "    seed=123,\n",
        "    image_size=(img_height, img_width),\n",
        "    batch_size=batch_size\n",
        ")\n",
        "\n",
        "new_val_ds = keras.preprocessing.image_dataset_from_directory(\n",
        "    \"/content/drive/My Drive/insect\",\n",
        "    validation_split=0.2,\n",
        "    subset=\"validation\",\n",
        "    seed=123,\n",
        "    image_size=(img_height, img_width),\n",
        "    batch_size=batch_size\n",
        ")\n",
        "\n",
        "class_names = new_train_ds_raw.class_names\n",
        "num_classes = len(class_names)\n",
        "print(\"Classes:\", class_names)\n",
        "\n",
        "# Apply Data Augmentation\n",
        "new_data_augmentation = keras.Sequential([\n",
        "    layers.RandomFlip(\"horizontal\"),\n",
        "    layers.RandomRotation(0.3),\n",
        "    layers.RandomZoom(0.3),\n",
        "    layers.RandomContrast(0.2),\n",
        "    layers.RandomTranslation(height_factor=0.2, width_factor=0.2),\n",
        "])\n",
        "\n",
        "new_train_ds = new_train_ds_raw.map(lambda x, y: (new_data_augmentation(x, training=True), y))\n",
        "\n",
        "# Load Pre-trained MobileNetV2 Model\n",
        "mobilenet_base = keras.applications.MobileNetV2(input_shape=(img_height, img_width, 3),\n",
        "                                                include_top=False,\n",
        "                                                weights='imagenet')\n",
        "\n",
        "mobilenet_base.trainable = False  # Freeze pre-trained layers\n",
        "\n",
        "# Build New Model Using MobileNetV2\n",
        "mobilenet_model = keras.Sequential([\n",
        "    mobilenet_base,\n",
        "    layers.GlobalAveragePooling2D(),\n",
        "    layers.Dense(256, activation='relu'),\n",
        "    layers.Dropout(0.5),\n",
        "    layers.Dense(num_classes, activation='softmax')\n",
        "])\n",
        "\n",
        "# Compile Model\n",
        "mobilenet_model.compile(optimizer=keras.optimizers.Adam(learning_rate=0.0001),\n",
        "                        loss='sparse_categorical_crossentropy',\n",
        "                        metrics=['accuracy'])\n",
        "\n",
        "# Save Training Progress (Checkpoint)\n",
        "checkpoint_mobilenet = \"/content/drive/My Drive/mobilenet_checkpoint.keras\"\n",
        "checkpoint_callback = keras.callbacks.ModelCheckpoint(filepath=checkpoint_mobilenet,\n",
        "                                                      save_best_only=True,\n",
        "                                                      monitor='val_accuracy',\n",
        "                                                      mode='max')\n",
        "\n",
        "# Learning Rate Adjustment\n",
        "lr_scheduler = keras.callbacks.ReduceLROnPlateau(monitor='val_loss', factor=0.2, patience=5, min_lr=0.00001)\n",
        "\n",
        "# Train Model\n",
        "epochs = 20\n",
        "history_mobilenet = mobilenet_model.fit(new_train_ds, validation_data=new_val_ds, epochs=epochs,\n",
        "                                        callbacks=[checkpoint_callback, lr_scheduler])\n",
        "\n",
        "# Save the new MobileNetV2 Model\n",
        "mobilenet_path = \"/content/drive/My Drive/insect_classifier_mobilenet.keras\"\n",
        "mobilenet_model.save(mobilenet_path)\n",
        "print(\"MobileNetV2 Model saved at\", mobilenet_path)\n"
      ],
      "metadata": {
        "colab": {
          "base_uri": "https://localhost:8080/"
        },
        "id": "D8TTPWiperGy",
        "outputId": "b7a2bffd-0909-45d4-f917-40fa12b02093"
      },
      "execution_count": null,
      "outputs": [
        {
          "output_type": "stream",
          "name": "stdout",
          "text": [
            "Found 6772 files belonging to 2 classes.\n",
            "Using 5418 files for training.\n",
            "Found 6772 files belonging to 2 classes.\n",
            "Using 1354 files for validation.\n",
            "Classes: ['harmful', 'not_harm']\n"
          ]
        },
        {
          "output_type": "stream",
          "name": "stderr",
          "text": [
            "<ipython-input-13-86000a9e26f6>:45: UserWarning: `input_shape` is undefined or non-square, or `rows` is not in [96, 128, 160, 192, 224]. Weights for input shape (224, 224) will be loaded as the default.\n",
            "  mobilenet_base = keras.applications.MobileNetV2(input_shape=(img_height, img_width, 3),\n"
          ]
        },
        {
          "output_type": "stream",
          "name": "stdout",
          "text": [
            "Epoch 1/20\n",
            "\u001b[1m170/170\u001b[0m \u001b[32m━━━━━━━━━━━━━━━━━━━━\u001b[0m\u001b[37m\u001b[0m \u001b[1m225s\u001b[0m 1s/step - accuracy: 0.6685 - loss: 0.7887 - val_accuracy: 0.7482 - val_loss: 0.5141 - learning_rate: 1.0000e-04\n",
            "Epoch 2/20\n",
            "\u001b[1m170/170\u001b[0m \u001b[32m━━━━━━━━━━━━━━━━━━━━\u001b[0m\u001b[37m\u001b[0m \u001b[1m212s\u001b[0m 1s/step - accuracy: 0.7587 - loss: 0.5336 - val_accuracy: 0.7666 - val_loss: 0.4960 - learning_rate: 1.0000e-04\n",
            "Epoch 3/20\n",
            "\u001b[1m170/170\u001b[0m \u001b[32m━━━━━━━━━━━━━━━━━━━━\u001b[0m\u001b[37m\u001b[0m \u001b[1m213s\u001b[0m 1s/step - accuracy: 0.7744 - loss: 0.5032 - val_accuracy: 0.7688 - val_loss: 0.4934 - learning_rate: 1.0000e-04\n",
            "Epoch 4/20\n",
            "\u001b[1m170/170\u001b[0m \u001b[32m━━━━━━━━━━━━━━━━━━━━\u001b[0m\u001b[37m\u001b[0m \u001b[1m212s\u001b[0m 1s/step - accuracy: 0.7709 - loss: 0.4840 - val_accuracy: 0.7578 - val_loss: 0.5027 - learning_rate: 1.0000e-04\n",
            "Epoch 5/20\n",
            "\u001b[1m170/170\u001b[0m \u001b[32m━━━━━━━━━━━━━━━━━━━━\u001b[0m\u001b[37m\u001b[0m \u001b[1m214s\u001b[0m 1s/step - accuracy: 0.7715 - loss: 0.4907 - val_accuracy: 0.7164 - val_loss: 0.5561 - learning_rate: 1.0000e-04\n",
            "Epoch 6/20\n",
            "\u001b[1m170/170\u001b[0m \u001b[32m━━━━━━━━━━━━━━━━━━━━\u001b[0m\u001b[37m\u001b[0m \u001b[1m262s\u001b[0m 1s/step - accuracy: 0.7822 - loss: 0.4807 - val_accuracy: 0.7489 - val_loss: 0.5173 - learning_rate: 1.0000e-04\n",
            "Epoch 7/20\n",
            "\u001b[1m170/170\u001b[0m \u001b[32m━━━━━━━━━━━━━━━━━━━━\u001b[0m\u001b[37m\u001b[0m \u001b[1m204s\u001b[0m 1s/step - accuracy: 0.7784 - loss: 0.4842 - val_accuracy: 0.7445 - val_loss: 0.5218 - learning_rate: 1.0000e-04\n",
            "Epoch 8/20\n",
            "\u001b[1m170/170\u001b[0m \u001b[32m━━━━━━━━━━━━━━━━━━━━\u001b[0m\u001b[37m\u001b[0m \u001b[1m216s\u001b[0m 1s/step - accuracy: 0.7836 - loss: 0.4788 - val_accuracy: 0.7592 - val_loss: 0.5050 - learning_rate: 1.0000e-04\n",
            "Epoch 9/20\n",
            "\u001b[1m170/170\u001b[0m \u001b[32m━━━━━━━━━━━━━━━━━━━━\u001b[0m\u001b[37m\u001b[0m \u001b[1m215s\u001b[0m 1s/step - accuracy: 0.7809 - loss: 0.4757 - val_accuracy: 0.7637 - val_loss: 0.5047 - learning_rate: 2.0000e-05\n",
            "Epoch 10/20\n",
            "\u001b[1m170/170\u001b[0m \u001b[32m━━━━━━━━━━━━━━━━━━━━\u001b[0m\u001b[37m\u001b[0m \u001b[1m262s\u001b[0m 1s/step - accuracy: 0.7918 - loss: 0.4674 - val_accuracy: 0.7570 - val_loss: 0.5125 - learning_rate: 2.0000e-05\n",
            "Epoch 11/20\n",
            "\u001b[1m170/170\u001b[0m \u001b[32m━━━━━━━━━━━━━━━━━━━━\u001b[0m\u001b[37m\u001b[0m \u001b[1m211s\u001b[0m 1s/step - accuracy: 0.7792 - loss: 0.4684 - val_accuracy: 0.7445 - val_loss: 0.5174 - learning_rate: 2.0000e-05\n",
            "Epoch 12/20\n",
            "\u001b[1m170/170\u001b[0m \u001b[32m━━━━━━━━━━━━━━━━━━━━\u001b[0m\u001b[37m\u001b[0m \u001b[1m266s\u001b[0m 1s/step - accuracy: 0.7930 - loss: 0.4601 - val_accuracy: 0.7548 - val_loss: 0.5147 - learning_rate: 2.0000e-05\n",
            "Epoch 13/20\n",
            "\u001b[1m170/170\u001b[0m \u001b[32m━━━━━━━━━━━━━━━━━━━━\u001b[0m\u001b[37m\u001b[0m \u001b[1m257s\u001b[0m 1s/step - accuracy: 0.7800 - loss: 0.4766 - val_accuracy: 0.7511 - val_loss: 0.5154 - learning_rate: 2.0000e-05\n",
            "Epoch 14/20\n",
            "\u001b[1m170/170\u001b[0m \u001b[32m━━━━━━━━━━━━━━━━━━━━\u001b[0m\u001b[37m\u001b[0m \u001b[1m215s\u001b[0m 1s/step - accuracy: 0.7894 - loss: 0.4682 - val_accuracy: 0.7496 - val_loss: 0.5152 - learning_rate: 1.0000e-05\n",
            "Epoch 15/20\n",
            "\u001b[1m170/170\u001b[0m \u001b[32m━━━━━━━━━━━━━━━━━━━━\u001b[0m\u001b[37m\u001b[0m \u001b[1m262s\u001b[0m 1s/step - accuracy: 0.7901 - loss: 0.4534 - val_accuracy: 0.7445 - val_loss: 0.5161 - learning_rate: 1.0000e-05\n",
            "Epoch 16/20\n",
            "\u001b[1m170/170\u001b[0m \u001b[32m━━━━━━━━━━━━━━━━━━━━\u001b[0m\u001b[37m\u001b[0m \u001b[1m205s\u001b[0m 1s/step - accuracy: 0.7934 - loss: 0.4530 - val_accuracy: 0.7445 - val_loss: 0.5157 - learning_rate: 1.0000e-05\n",
            "Epoch 17/20\n",
            "\u001b[1m170/170\u001b[0m \u001b[32m━━━━━━━━━━━━━━━━━━━━\u001b[0m\u001b[37m\u001b[0m \u001b[1m214s\u001b[0m 1s/step - accuracy: 0.7873 - loss: 0.4575 - val_accuracy: 0.7496 - val_loss: 0.5141 - learning_rate: 1.0000e-05\n",
            "Epoch 18/20\n",
            "\u001b[1m170/170\u001b[0m \u001b[32m━━━━━━━━━━━━━━━━━━━━\u001b[0m\u001b[37m\u001b[0m \u001b[1m213s\u001b[0m 1s/step - accuracy: 0.7936 - loss: 0.4544 - val_accuracy: 0.7474 - val_loss: 0.5124 - learning_rate: 1.0000e-05\n",
            "Epoch 19/20\n",
            "\u001b[1m170/170\u001b[0m \u001b[32m━━━━━━━━━━━━━━━━━━━━\u001b[0m\u001b[37m\u001b[0m \u001b[1m214s\u001b[0m 1s/step - accuracy: 0.7887 - loss: 0.4619 - val_accuracy: 0.7474 - val_loss: 0.5155 - learning_rate: 1.0000e-05\n",
            "Epoch 20/20\n",
            "\u001b[1m170/170\u001b[0m \u001b[32m━━━━━━━━━━━━━━━━━━━━\u001b[0m\u001b[37m\u001b[0m \u001b[1m215s\u001b[0m 1s/step - accuracy: 0.7952 - loss: 0.4530 - val_accuracy: 0.7474 - val_loss: 0.5145 - learning_rate: 1.0000e-05\n",
            "MobileNetV2 Model saved at /content/drive/My Drive/insect_classifier_mobilenet.keras\n"
          ]
        }
      ]
    },
    {
      "cell_type": "code",
      "source": [
        "!pip install tensorflow\n",
        "!pip install seaborn scikit-learn\n"
      ],
      "metadata": {
        "colab": {
          "base_uri": "https://localhost:8080/"
        },
        "id": "OudJgAZeHEJS",
        "outputId": "74722f6b-1ac7-4027-ba66-40f169ca8902"
      },
      "execution_count": null,
      "outputs": [
        {
          "output_type": "stream",
          "name": "stdout",
          "text": [
            "Requirement already satisfied: tensorflow in /usr/local/lib/python3.11/dist-packages (2.18.0)\n",
            "Requirement already satisfied: absl-py>=1.0.0 in /usr/local/lib/python3.11/dist-packages (from tensorflow) (1.4.0)\n",
            "Requirement already satisfied: astunparse>=1.6.0 in /usr/local/lib/python3.11/dist-packages (from tensorflow) (1.6.3)\n",
            "Requirement already satisfied: flatbuffers>=24.3.25 in /usr/local/lib/python3.11/dist-packages (from tensorflow) (25.2.10)\n",
            "Requirement already satisfied: gast!=0.5.0,!=0.5.1,!=0.5.2,>=0.2.1 in /usr/local/lib/python3.11/dist-packages (from tensorflow) (0.6.0)\n",
            "Requirement already satisfied: google-pasta>=0.1.1 in /usr/local/lib/python3.11/dist-packages (from tensorflow) (0.2.0)\n",
            "Requirement already satisfied: libclang>=13.0.0 in /usr/local/lib/python3.11/dist-packages (from tensorflow) (18.1.1)\n",
            "Requirement already satisfied: opt-einsum>=2.3.2 in /usr/local/lib/python3.11/dist-packages (from tensorflow) (3.4.0)\n",
            "Requirement already satisfied: packaging in /usr/local/lib/python3.11/dist-packages (from tensorflow) (24.2)\n",
            "Requirement already satisfied: protobuf!=4.21.0,!=4.21.1,!=4.21.2,!=4.21.3,!=4.21.4,!=4.21.5,<6.0.0dev,>=3.20.3 in /usr/local/lib/python3.11/dist-packages (from tensorflow) (4.25.6)\n",
            "Requirement already satisfied: requests<3,>=2.21.0 in /usr/local/lib/python3.11/dist-packages (from tensorflow) (2.32.3)\n",
            "Requirement already satisfied: setuptools in /usr/local/lib/python3.11/dist-packages (from tensorflow) (75.1.0)\n",
            "Requirement already satisfied: six>=1.12.0 in /usr/local/lib/python3.11/dist-packages (from tensorflow) (1.17.0)\n",
            "Requirement already satisfied: termcolor>=1.1.0 in /usr/local/lib/python3.11/dist-packages (from tensorflow) (2.5.0)\n",
            "Requirement already satisfied: typing-extensions>=3.6.6 in /usr/local/lib/python3.11/dist-packages (from tensorflow) (4.12.2)\n",
            "Requirement already satisfied: wrapt>=1.11.0 in /usr/local/lib/python3.11/dist-packages (from tensorflow) (1.17.2)\n",
            "Requirement already satisfied: grpcio<2.0,>=1.24.3 in /usr/local/lib/python3.11/dist-packages (from tensorflow) (1.70.0)\n",
            "Requirement already satisfied: tensorboard<2.19,>=2.18 in /usr/local/lib/python3.11/dist-packages (from tensorflow) (2.18.0)\n",
            "Requirement already satisfied: keras>=3.5.0 in /usr/local/lib/python3.11/dist-packages (from tensorflow) (3.8.0)\n",
            "Requirement already satisfied: numpy<2.1.0,>=1.26.0 in /usr/local/lib/python3.11/dist-packages (from tensorflow) (1.26.4)\n",
            "Requirement already satisfied: h5py>=3.11.0 in /usr/local/lib/python3.11/dist-packages (from tensorflow) (3.12.1)\n",
            "Requirement already satisfied: ml-dtypes<0.5.0,>=0.4.0 in /usr/local/lib/python3.11/dist-packages (from tensorflow) (0.4.1)\n",
            "Requirement already satisfied: tensorflow-io-gcs-filesystem>=0.23.1 in /usr/local/lib/python3.11/dist-packages (from tensorflow) (0.37.1)\n",
            "Requirement already satisfied: wheel<1.0,>=0.23.0 in /usr/local/lib/python3.11/dist-packages (from astunparse>=1.6.0->tensorflow) (0.45.1)\n",
            "Requirement already satisfied: rich in /usr/local/lib/python3.11/dist-packages (from keras>=3.5.0->tensorflow) (13.9.4)\n",
            "Requirement already satisfied: namex in /usr/local/lib/python3.11/dist-packages (from keras>=3.5.0->tensorflow) (0.0.8)\n",
            "Requirement already satisfied: optree in /usr/local/lib/python3.11/dist-packages (from keras>=3.5.0->tensorflow) (0.14.0)\n",
            "Requirement already satisfied: charset-normalizer<4,>=2 in /usr/local/lib/python3.11/dist-packages (from requests<3,>=2.21.0->tensorflow) (3.4.1)\n",
            "Requirement already satisfied: idna<4,>=2.5 in /usr/local/lib/python3.11/dist-packages (from requests<3,>=2.21.0->tensorflow) (3.10)\n",
            "Requirement already satisfied: urllib3<3,>=1.21.1 in /usr/local/lib/python3.11/dist-packages (from requests<3,>=2.21.0->tensorflow) (2.3.0)\n",
            "Requirement already satisfied: certifi>=2017.4.17 in /usr/local/lib/python3.11/dist-packages (from requests<3,>=2.21.0->tensorflow) (2025.1.31)\n",
            "Requirement already satisfied: markdown>=2.6.8 in /usr/local/lib/python3.11/dist-packages (from tensorboard<2.19,>=2.18->tensorflow) (3.7)\n",
            "Requirement already satisfied: tensorboard-data-server<0.8.0,>=0.7.0 in /usr/local/lib/python3.11/dist-packages (from tensorboard<2.19,>=2.18->tensorflow) (0.7.2)\n",
            "Requirement already satisfied: werkzeug>=1.0.1 in /usr/local/lib/python3.11/dist-packages (from tensorboard<2.19,>=2.18->tensorflow) (3.1.3)\n",
            "Requirement already satisfied: MarkupSafe>=2.1.1 in /usr/local/lib/python3.11/dist-packages (from werkzeug>=1.0.1->tensorboard<2.19,>=2.18->tensorflow) (3.0.2)\n",
            "Requirement already satisfied: markdown-it-py>=2.2.0 in /usr/local/lib/python3.11/dist-packages (from rich->keras>=3.5.0->tensorflow) (3.0.0)\n",
            "Requirement already satisfied: pygments<3.0.0,>=2.13.0 in /usr/local/lib/python3.11/dist-packages (from rich->keras>=3.5.0->tensorflow) (2.18.0)\n",
            "Requirement already satisfied: mdurl~=0.1 in /usr/local/lib/python3.11/dist-packages (from markdown-it-py>=2.2.0->rich->keras>=3.5.0->tensorflow) (0.1.2)\n",
            "Requirement already satisfied: seaborn in /usr/local/lib/python3.11/dist-packages (0.13.2)\n",
            "Requirement already satisfied: scikit-learn in /usr/local/lib/python3.11/dist-packages (1.6.1)\n",
            "Requirement already satisfied: numpy!=1.24.0,>=1.20 in /usr/local/lib/python3.11/dist-packages (from seaborn) (1.26.4)\n",
            "Requirement already satisfied: pandas>=1.2 in /usr/local/lib/python3.11/dist-packages (from seaborn) (2.2.2)\n",
            "Requirement already satisfied: matplotlib!=3.6.1,>=3.4 in /usr/local/lib/python3.11/dist-packages (from seaborn) (3.10.0)\n",
            "Requirement already satisfied: scipy>=1.6.0 in /usr/local/lib/python3.11/dist-packages (from scikit-learn) (1.13.1)\n",
            "Requirement already satisfied: joblib>=1.2.0 in /usr/local/lib/python3.11/dist-packages (from scikit-learn) (1.4.2)\n",
            "Requirement already satisfied: threadpoolctl>=3.1.0 in /usr/local/lib/python3.11/dist-packages (from scikit-learn) (3.5.0)\n",
            "Requirement already satisfied: contourpy>=1.0.1 in /usr/local/lib/python3.11/dist-packages (from matplotlib!=3.6.1,>=3.4->seaborn) (1.3.1)\n",
            "Requirement already satisfied: cycler>=0.10 in /usr/local/lib/python3.11/dist-packages (from matplotlib!=3.6.1,>=3.4->seaborn) (0.12.1)\n",
            "Requirement already satisfied: fonttools>=4.22.0 in /usr/local/lib/python3.11/dist-packages (from matplotlib!=3.6.1,>=3.4->seaborn) (4.56.0)\n",
            "Requirement already satisfied: kiwisolver>=1.3.1 in /usr/local/lib/python3.11/dist-packages (from matplotlib!=3.6.1,>=3.4->seaborn) (1.4.8)\n",
            "Requirement already satisfied: packaging>=20.0 in /usr/local/lib/python3.11/dist-packages (from matplotlib!=3.6.1,>=3.4->seaborn) (24.2)\n",
            "Requirement already satisfied: pillow>=8 in /usr/local/lib/python3.11/dist-packages (from matplotlib!=3.6.1,>=3.4->seaborn) (11.1.0)\n",
            "Requirement already satisfied: pyparsing>=2.3.1 in /usr/local/lib/python3.11/dist-packages (from matplotlib!=3.6.1,>=3.4->seaborn) (3.2.1)\n",
            "Requirement already satisfied: python-dateutil>=2.7 in /usr/local/lib/python3.11/dist-packages (from matplotlib!=3.6.1,>=3.4->seaborn) (2.8.2)\n",
            "Requirement already satisfied: pytz>=2020.1 in /usr/local/lib/python3.11/dist-packages (from pandas>=1.2->seaborn) (2025.1)\n",
            "Requirement already satisfied: tzdata>=2022.7 in /usr/local/lib/python3.11/dist-packages (from pandas>=1.2->seaborn) (2025.1)\n",
            "Requirement already satisfied: six>=1.5 in /usr/local/lib/python3.11/dist-packages (from python-dateutil>=2.7->matplotlib!=3.6.1,>=3.4->seaborn) (1.17.0)\n"
          ]
        }
      ]
    },
    {
      "cell_type": "code",
      "source": [
        "# Import necessary libraries\n",
        "from tensorflow import keras\n",
        "\n",
        "# Reload dataset (Validation Set Only)\n",
        "import tensorflow as tf\n",
        "dataset_path = \"/content/drive/My Drive/insect\"\n",
        "img_height, img_width = 150, 150\n",
        "batch_size = 32\n",
        "\n",
        "val_ds = keras.preprocessing.image_dataset_from_directory(\n",
        "    dataset_path,\n",
        "    validation_split=0.2,\n",
        "    subset=\"validation\",\n",
        "    seed=123,\n",
        "    image_size=(img_height, img_width),\n",
        "    batch_size=batch_size\n",
        ")\n",
        "\n",
        "# Load trained model from Drive\n",
        "model_path = \"/content/drive/My Drive/insect_classifier.keras\"\n",
        "model = keras.models.load_model(model_path)\n",
        "print(\"Model loaded successfully!\")\n",
        "\n",
        "# Evaluate on validation set\n",
        "loss, accuracy = model.evaluate(val_ds)\n",
        "print(f\"Validation Accuracy: {accuracy:.4f}\")\n",
        "print(f\"Validation Loss: {loss:.4f}\")\n"
      ],
      "metadata": {
        "colab": {
          "base_uri": "https://localhost:8080/"
        },
        "id": "6CsDDlFhJjcC",
        "outputId": "fe796cf7-b90e-4117-f7d1-2e242cf0167a"
      },
      "execution_count": null,
      "outputs": [
        {
          "output_type": "stream",
          "name": "stdout",
          "text": [
            "Found 6772 files belonging to 2 classes.\n",
            "Using 1354 files for validation.\n",
            "Model loaded successfully!\n",
            "\u001b[1m43/43\u001b[0m \u001b[32m━━━━━━━━━━━━━━━━━━━━\u001b[0m\u001b[37m\u001b[0m \u001b[1m318s\u001b[0m 7s/step - accuracy: 0.3255 - loss: 3.0997\n",
            "Validation Accuracy: 0.3626\n",
            "Validation Loss: 2.9046\n"
          ]
        }
      ]
    },
    {
      "cell_type": "code",
      "source": [
        "from google.colab import drive\n",
        "drive.mount('/content/drive', force_remount=True)  # Force remount ensures latest files are seen\n"
      ],
      "metadata": {
        "colab": {
          "base_uri": "https://localhost:8080/"
        },
        "id": "y9gs41gjWjXs",
        "outputId": "202b6274-fe93-4cbc-8e19-39dcf65a8f10"
      },
      "execution_count": null,
      "outputs": [
        {
          "output_type": "stream",
          "name": "stdout",
          "text": [
            "Mounted at /content/drive\n"
          ]
        }
      ]
    },
    {
      "cell_type": "code",
      "source": [
        "from google.colab import drive\n",
        "drive.mount('/content/drive')\n"
      ],
      "metadata": {
        "colab": {
          "base_uri": "https://localhost:8080/"
        },
        "id": "I9ZhAtrBV0Mw",
        "outputId": "b15ce897-f290-4405-ddf1-4a7086aae72c"
      },
      "execution_count": null,
      "outputs": [
        {
          "output_type": "stream",
          "name": "stdout",
          "text": [
            "Mounted at /content/drive\n"
          ]
        }
      ]
    },
    {
      "cell_type": "code",
      "source": [
        "history_file = \"/content/drive/My Drive/xception_history.txt\"\n",
        "\n",
        "# Ensure the directory exists before writing\n",
        "import os\n",
        "\n",
        "if not os.path.exists(history_file):\n",
        "    with open(history_file, \"w\") as f:\n",
        "        f.write(\"0\")  # Set the last completed epoch to 0 if no history exists\n",
        "\n",
        "print(\"History file created successfully.\")\n",
        "\n",
        "history_file = \"/content/drive/My Drive/xception_history.txt\"\n",
        "\n",
        "# Manually set the last saved epoch (change '4' to the actual last completed epoch)\n",
        "last_completed_epoch = 4\n",
        "\n",
        "with open(history_file, \"w\") as f:\n",
        "    f.write(str(last_completed_epoch))\n",
        "\n",
        "print(f\"History file updated: Last saved epoch is now {last_completed_epoch}\")\n",
        "\n",
        "\n"
      ],
      "metadata": {
        "colab": {
          "base_uri": "https://localhost:8080/"
        },
        "id": "S9uQTx_iVTSD",
        "outputId": "69929d01-d67e-4921-c623-ff2cb8471c7d"
      },
      "execution_count": null,
      "outputs": [
        {
          "output_type": "stream",
          "name": "stdout",
          "text": [
            "History file created successfully.\n",
            "History file updated: Last saved epoch is now 4\n"
          ]
        }
      ]
    },
    {
      "cell_type": "code",
      "source": [
        "import os\n",
        "\n",
        "checkpoint_xception = \"/content/drive/My Drive/xception_checkpoint.keras\"\n",
        "\n",
        "if os.path.exists(checkpoint_xception):\n",
        "    print(\"Checkpoint found.\")\n",
        "else:\n",
        "    print(\"Checkpoint not found. Model will start training from scratch.\")\n"
      ],
      "metadata": {
        "colab": {
          "base_uri": "https://localhost:8080/"
        },
        "id": "KdhSveKNWoa8",
        "outputId": "e52ae1ab-8a01-4073-9f2c-339699e33661"
      },
      "execution_count": null,
      "outputs": [
        {
          "output_type": "stream",
          "name": "stdout",
          "text": [
            "Checkpoint found.\n"
          ]
        }
      ]
    },
    {
      "cell_type": "code",
      "source": [
        "import os\n",
        "\n",
        "history_file = \"/content/drive/My Drive/xception_history.txt\"\n",
        "\n",
        "# Manually set the last completed epoch (change '4' to your last saved epoch)\n",
        "last_completed_epoch = 4\n",
        "\n",
        "# Write to the history file\n",
        "with open(history_file, \"w\") as f:\n",
        "    f.write(str(last_completed_epoch))\n",
        "\n",
        "print(f\"History file updated: Last saved epoch is now {last_completed_epoch}\")\n"
      ],
      "metadata": {
        "colab": {
          "base_uri": "https://localhost:8080/"
        },
        "id": "n_jjm4c-bUAQ",
        "outputId": "4e182c32-78f9-428a-91d0-d6fd78c6a675"
      },
      "execution_count": null,
      "outputs": [
        {
          "output_type": "stream",
          "name": "stdout",
          "text": [
            "History file updated: Last saved epoch is now 4\n"
          ]
        }
      ]
    },
    {
      "cell_type": "code",
      "source": [
        "# Import necessary libraries\n",
        "import tensorflow as tf\n",
        "from tensorflow import keras\n",
        "from tensorflow.keras import layers\n",
        "import os\n",
        "\n",
        "# Define optimized image parameters\n",
        "img_height, img_width = 224, 224  # Higher resolution for better accuracy\n",
        "batch_size = 32  # Balanced batch size for performance\n",
        "AUTOTUNE = tf.data.AUTOTUNE\n",
        "\n",
        "# Reload the dataset\n",
        "new_train_ds_raw = keras.preprocessing.image_dataset_from_directory(\n",
        "    \"/content/drive/My Drive/insect\",\n",
        "    validation_split=0.2,\n",
        "    subset=\"training\",\n",
        "    seed=123,\n",
        "    image_size=(img_height, img_width),\n",
        "    batch_size=batch_size\n",
        ")\n",
        "\n",
        "new_val_ds = keras.preprocessing.image_dataset_from_directory(\n",
        "    \"/content/drive/My Drive/insect\",\n",
        "    validation_split=0.2,\n",
        "    subset=\"validation\",\n",
        "    seed=123,\n",
        "    image_size=(img_height, img_width),\n",
        "    batch_size=batch_size\n",
        ")\n",
        "\n",
        "# Get class names BEFORE applying `.map()`\n",
        "class_names = new_train_ds_raw.class_names\n",
        "num_classes = len(class_names)\n",
        "print(\"Classes:\", class_names)\n",
        "\n",
        "# Apply Advanced Data Augmentation\n",
        "new_data_augmentation = keras.Sequential([\n",
        "    layers.RandomFlip(\"horizontal\"),\n",
        "    layers.RandomRotation(0.3),\n",
        "    layers.RandomZoom(0.3),\n",
        "    layers.RandomContrast(0.2),\n",
        "    layers.RandomTranslation(height_factor=0.2, width_factor=0.2),\n",
        "])\n",
        "\n",
        "# Apply `.map()` AFTER getting class names\n",
        "new_train_ds = new_train_ds_raw.map(lambda x, y: (new_data_augmentation(x, training=True), y))\n",
        "new_train_ds = new_train_ds.cache().prefetch(buffer_size=AUTOTUNE)  # Speed up training\n",
        "new_val_ds = new_val_ds.cache().prefetch(buffer_size=AUTOTUNE)\n",
        "\n",
        "# Load Pre-trained Xception Model (Higher Accuracy than MobileNetV2)\n",
        "checkpoint_xception = \"/content/drive/My Drive/xception_checkpoint.keras\"\n",
        "\n",
        "if os.path.exists(checkpoint_xception):\n",
        "    xception_model = keras.models.load_model(checkpoint_xception)\n",
        "    print(\"Loaded checkpoint model from:\", checkpoint_xception)\n",
        "else:\n",
        "    print(\"Checkpoint not found. Training will start from scratch.\")\n",
        "\n",
        "    xception_base = keras.applications.Xception(input_shape=(img_height, img_width, 3),\n",
        "                                                include_top=False,\n",
        "                                                weights='imagenet')\n",
        "\n",
        "    # Unfreeze last 30 layers for fine-tuning\n",
        "    for layer in xception_base.layers[-30:]:\n",
        "        layer.trainable = True\n",
        "\n",
        "    # Build the Fine-Tuned Model\n",
        "    xception_model = keras.Sequential([\n",
        "        xception_base,\n",
        "        layers.GlobalAveragePooling2D(),\n",
        "        layers.Dense(512, activation='relu'),\n",
        "        layers.Dropout(0.2),  # Reduced dropout for better learning\n",
        "        layers.Dense(256, activation='relu'),\n",
        "        layers.Dropout(0.2),\n",
        "        layers.Dense(num_classes, activation='softmax')\n",
        "    ])\n",
        "\n",
        "    # Use an optimized learning rate with decay\n",
        "    xception_model.compile(optimizer=keras.optimizers.Adam(learning_rate=0.0003),\n",
        "                            loss='sparse_categorical_crossentropy',\n",
        "                            metrics=['accuracy'])\n",
        "\n",
        "# Load the last saved epoch\n",
        "history_file = \"/content/drive/My Drive/xception_history.txt\"\n",
        "\n",
        "if os.path.exists(history_file):\n",
        "    with open(history_file, \"r\") as f:\n",
        "        last_epoch = int(f.read().strip())\n",
        "else:\n",
        "    last_epoch = 0  # Default to start from scratch\n",
        "\n",
        "print(f\"Resuming training from epoch {last_epoch}...\")\n",
        "\n",
        "# Save Training Progress (Checkpoint)\n",
        "checkpoint_callback = keras.callbacks.ModelCheckpoint(filepath=checkpoint_xception,\n",
        "                                                      save_best_only=True,\n",
        "                                                      monitor='val_accuracy',\n",
        "                                                      mode='max')\n",
        "\n",
        "# Learning Rate Adjustment\n",
        "lr_scheduler = keras.callbacks.ReduceLROnPlateau(monitor='val_loss', factor=0.2, patience=3, min_lr=0.00001)\n",
        "\n",
        "# Define the number of additional epochs to train\n",
        "additional_epochs = 10\n",
        "\n",
        "# Train the model from the last saved epoch\n",
        "history_xception = xception_model.fit(new_train_ds, validation_data=new_val_ds,\n",
        "                                      epochs=last_epoch + additional_epochs,\n",
        "                                      initial_epoch=last_epoch,\n",
        "                                      callbacks=[checkpoint_callback, lr_scheduler])\n",
        "\n",
        "# Save the last trained epoch number\n",
        "with open(history_file, \"w\") as f:\n",
        "    f.write(str(last_epoch + additional_epochs))\n",
        "\n",
        "# Save final model after training\n",
        "xception_model.save(\"/content/drive/My Drive/insect_classifier_xception.keras\")\n",
        "print(\"Model training continued and saved successfully.\")\n"
      ],
      "metadata": {
        "colab": {
          "base_uri": "https://localhost:8080/"
        },
        "id": "nYr6noq81PJf",
        "outputId": "be0c19f2-78df-415e-91f4-cbf9e58469f8"
      },
      "execution_count": null,
      "outputs": [
        {
          "output_type": "stream",
          "name": "stdout",
          "text": [
            "Found 6772 files belonging to 2 classes.\n",
            "Using 5418 files for training.\n",
            "Found 6772 files belonging to 2 classes.\n",
            "Using 1354 files for validation.\n",
            "Classes: ['harmful', 'not_harm']\n",
            "Loaded checkpoint model from: /content/drive/My Drive/xception_checkpoint.keras\n",
            "Resuming training from epoch 4...\n",
            "Epoch 5/14\n",
            "\u001b[1m143/170\u001b[0m \u001b[32m━━━━━━━━━━━━━━━━\u001b[0m\u001b[37m━━━━\u001b[0m \u001b[1m15:22\u001b[0m 34s/step - accuracy: 0.9341 - loss: 0.1815"
          ]
        }
      ]
    }
  ]
}